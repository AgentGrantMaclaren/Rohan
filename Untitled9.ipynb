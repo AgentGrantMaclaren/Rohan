{
 "cells": [
  {
   "cell_type": "code",
   "execution_count": 3,
   "id": "dbdc5bb1",
   "metadata": {},
   "outputs": [
    {
     "name": "stdout",
     "output_type": "stream",
     "text": [
      "Requirement already satisfied: pandas in c:\\users\\admin\\anaconda3\\lib\\site-packages (1.4.2)\n",
      "Requirement already satisfied: pytz>=2020.1 in c:\\users\\admin\\anaconda3\\lib\\site-packages (from pandas) (2021.3)\n",
      "Requirement already satisfied: python-dateutil>=2.8.1 in c:\\users\\admin\\anaconda3\\lib\\site-packages (from pandas) (2.8.2)\n",
      "Requirement already satisfied: numpy>=1.18.5 in c:\\users\\admin\\anaconda3\\lib\\site-packages (from pandas) (1.21.5)\n",
      "Requirement already satisfied: six>=1.5 in c:\\users\\admin\\anaconda3\\lib\\site-packages (from python-dateutil>=2.8.1->pandas) (1.16.0)\n",
      "Note: you may need to restart the kernel to use updated packages.\n"
     ]
    }
   ],
   "source": [
    "pip install pandas\n"
   ]
  },
  {
   "cell_type": "code",
   "execution_count": 4,
   "id": "77ae8a8a",
   "metadata": {},
   "outputs": [],
   "source": [
    "import pandas as pd"
   ]
  },
  {
   "cell_type": "code",
   "execution_count": 6,
   "id": "a37171f8",
   "metadata": {},
   "outputs": [
    {
     "name": "stdout",
     "output_type": "stream",
     "text": [
      "0    rohan\n",
      "1    pawan\n",
      "2      sam\n",
      "dtype: object\n"
     ]
    }
   ],
   "source": [
    "a=['rohan','pawan','sam']\n",
    "pr=pd.Series(a)\n",
    "print(pr)"
   ]
  },
  {
   "cell_type": "code",
   "execution_count": 7,
   "id": "9578b15d",
   "metadata": {},
   "outputs": [
    {
     "name": "stdout",
     "output_type": "stream",
     "text": [
      "0    33\n",
      "1    45\n",
      "2    66\n",
      "3    89\n",
      "4    97\n",
      "dtype: int64\n"
     ]
    }
   ],
   "source": [
    "b=[33,45,66,89,97]\n",
    "f=pd.Series(b)\n",
    "print(f)"
   ]
  },
  {
   "cell_type": "code",
   "execution_count": 13,
   "id": "8ecd6048",
   "metadata": {},
   "outputs": [
    {
     "data": {
      "text/plain": [
       "name          rohan\n",
       "DOB      13-03-1999\n",
       "score            99\n",
       "dtype: object"
      ]
     },
     "execution_count": 13,
     "metadata": {},
     "output_type": "execute_result"
    }
   ],
   "source": [
    "g=[\"rohan\",\"13-03-1999\",99]\n",
    "g=pd.Series(g,index=[\"name\",\"DOB\",\"score\"])\n",
    "g"
   ]
  },
  {
   "cell_type": "code",
   "execution_count": 14,
   "id": "10271d0c",
   "metadata": {},
   "outputs": [
    {
     "data": {
      "text/plain": [
       "{'Name': ['Rohan', 'pawan', 'sam', 'nikhil', 'ron', 'ren'],\n",
       " 'City': ['vashi', 'panvel', 'Nehrul', 'pune', 'oldpanvel', 'belapur'],\n",
       " 'Index': [1, 2, 3, 4, 5, 6]}"
      ]
     },
     "execution_count": 14,
     "metadata": {},
     "output_type": "execute_result"
    }
   ],
   "source": [
    "name=[\"Rohan\",\"pawan\",\"sam\",\"nikhil\",\"ron\",\"ren\"]\n",
    "city=[\"vashi\",\"panvel\",\"Nehrul\",\"pune\",\"oldpanvel\",\"belapur\"]\n",
    "srno=[1,2,3,4,5,6]\n",
    "user={\"Name\":name,\"City\":city,\"Index\":srno}\n",
    "user"
   ]
  },
  {
   "cell_type": "code",
   "execution_count": 16,
   "id": "cf317593",
   "metadata": {},
   "outputs": [
    {
     "name": "stdout",
     "output_type": "stream",
     "text": [
      "     Name       City  Index\n",
      "0   Rohan      vashi      1\n",
      "1   pawan     panvel      2\n",
      "2     sam     Nehrul      3\n",
      "3  nikhil       pune      4\n",
      "4     ron  oldpanvel      5\n",
      "5     ren    belapur      6\n"
     ]
    }
   ],
   "source": [
    "d=pd.DataFrame(user)\n",
    "print(d)"
   ]
  },
  {
   "cell_type": "code",
   "execution_count": 18,
   "id": "1cbff397",
   "metadata": {},
   "outputs": [
    {
     "name": "stdout",
     "output_type": "stream",
     "text": [
      "<class 'pandas.core.frame.DataFrame'>\n",
      "RangeIndex: 6 entries, 0 to 5\n",
      "Data columns (total 3 columns):\n",
      " #   Column  Non-Null Count  Dtype \n",
      "---  ------  --------------  ----- \n",
      " 0   Name    6 non-null      object\n",
      " 1   City    6 non-null      object\n",
      " 2   Index   6 non-null      int64 \n",
      "dtypes: int64(1), object(2)\n",
      "memory usage: 272.0+ bytes\n"
     ]
    }
   ],
   "source": [
    "d.info()"
   ]
  },
  {
   "cell_type": "code",
   "execution_count": 19,
   "id": "dca97676",
   "metadata": {},
   "outputs": [
    {
     "data": {
      "text/plain": [
       "0     Rohan\n",
       "1     pawan\n",
       "2       sam\n",
       "3    nikhil\n",
       "4       ron\n",
       "5       ren\n",
       "Name: Name, dtype: object"
      ]
     },
     "execution_count": 19,
     "metadata": {},
     "output_type": "execute_result"
    }
   ],
   "source": [
    "d[\"Name\"]\n"
   ]
  },
  {
   "cell_type": "code",
   "execution_count": 23,
   "id": "b631aa3e",
   "metadata": {},
   "outputs": [
    {
     "data": {
      "text/html": [
       "<div>\n",
       "<style scoped>\n",
       "    .dataframe tbody tr th:only-of-type {\n",
       "        vertical-align: middle;\n",
       "    }\n",
       "\n",
       "    .dataframe tbody tr th {\n",
       "        vertical-align: top;\n",
       "    }\n",
       "\n",
       "    .dataframe thead th {\n",
       "        text-align: right;\n",
       "    }\n",
       "</style>\n",
       "<table border=\"1\" class=\"dataframe\">\n",
       "  <thead>\n",
       "    <tr style=\"text-align: right;\">\n",
       "      <th></th>\n",
       "      <th>Name</th>\n",
       "      <th>City</th>\n",
       "    </tr>\n",
       "  </thead>\n",
       "  <tbody>\n",
       "    <tr>\n",
       "      <th>0</th>\n",
       "      <td>Rohan</td>\n",
       "      <td>vashi</td>\n",
       "    </tr>\n",
       "    <tr>\n",
       "      <th>1</th>\n",
       "      <td>pawan</td>\n",
       "      <td>panvel</td>\n",
       "    </tr>\n",
       "    <tr>\n",
       "      <th>2</th>\n",
       "      <td>sam</td>\n",
       "      <td>Nehrul</td>\n",
       "    </tr>\n",
       "    <tr>\n",
       "      <th>3</th>\n",
       "      <td>nikhil</td>\n",
       "      <td>pune</td>\n",
       "    </tr>\n",
       "    <tr>\n",
       "      <th>4</th>\n",
       "      <td>ron</td>\n",
       "      <td>oldpanvel</td>\n",
       "    </tr>\n",
       "    <tr>\n",
       "      <th>5</th>\n",
       "      <td>ren</td>\n",
       "      <td>belapur</td>\n",
       "    </tr>\n",
       "  </tbody>\n",
       "</table>\n",
       "</div>"
      ],
      "text/plain": [
       "     Name       City\n",
       "0   Rohan      vashi\n",
       "1   pawan     panvel\n",
       "2     sam     Nehrul\n",
       "3  nikhil       pune\n",
       "4     ron  oldpanvel\n",
       "5     ren    belapur"
      ]
     },
     "execution_count": 23,
     "metadata": {},
     "output_type": "execute_result"
    }
   ],
   "source": [
    "d[[\"Name\",\"City\"]]"
   ]
  },
  {
   "cell_type": "code",
   "execution_count": 24,
   "id": "60f6dd1a",
   "metadata": {},
   "outputs": [
    {
     "data": {
      "text/html": [
       "<div>\n",
       "<style scoped>\n",
       "    .dataframe tbody tr th:only-of-type {\n",
       "        vertical-align: middle;\n",
       "    }\n",
       "\n",
       "    .dataframe tbody tr th {\n",
       "        vertical-align: top;\n",
       "    }\n",
       "\n",
       "    .dataframe thead th {\n",
       "        text-align: right;\n",
       "    }\n",
       "</style>\n",
       "<table border=\"1\" class=\"dataframe\">\n",
       "  <thead>\n",
       "    <tr style=\"text-align: right;\">\n",
       "      <th></th>\n",
       "      <th>Name</th>\n",
       "      <th>City</th>\n",
       "      <th>Index</th>\n",
       "    </tr>\n",
       "  </thead>\n",
       "  <tbody>\n",
       "    <tr>\n",
       "      <th>0</th>\n",
       "      <td>Rohan</td>\n",
       "      <td>vashi</td>\n",
       "      <td>1</td>\n",
       "    </tr>\n",
       "    <tr>\n",
       "      <th>1</th>\n",
       "      <td>pawan</td>\n",
       "      <td>panvel</td>\n",
       "      <td>2</td>\n",
       "    </tr>\n",
       "  </tbody>\n",
       "</table>\n",
       "</div>"
      ],
      "text/plain": [
       "    Name    City  Index\n",
       "0  Rohan   vashi      1\n",
       "1  pawan  panvel      2"
      ]
     },
     "execution_count": 24,
     "metadata": {},
     "output_type": "execute_result"
    }
   ],
   "source": [
    "d.iloc[0:2]"
   ]
  },
  {
   "cell_type": "code",
   "execution_count": 26,
   "id": "b71fe148",
   "metadata": {},
   "outputs": [
    {
     "data": {
      "text/plain": [
       "0        vashi\n",
       "1       panvel\n",
       "2       Nehrul\n",
       "3         pune\n",
       "4    oldpanvel\n",
       "5      belapur\n",
       "Name: City, dtype: object"
      ]
     },
     "execution_count": 26,
     "metadata": {},
     "output_type": "execute_result"
    }
   ],
   "source": [
    "d.loc[0:5,\"City\"]\n",
    "\n",
    "\n"
   ]
  },
  {
   "cell_type": "code",
   "execution_count": 29,
   "id": "68f28aee",
   "metadata": {},
   "outputs": [
    {
     "data": {
      "text/html": [
       "<div>\n",
       "<style scoped>\n",
       "    .dataframe tbody tr th:only-of-type {\n",
       "        vertical-align: middle;\n",
       "    }\n",
       "\n",
       "    .dataframe tbody tr th {\n",
       "        vertical-align: top;\n",
       "    }\n",
       "\n",
       "    .dataframe thead th {\n",
       "        text-align: right;\n",
       "    }\n",
       "</style>\n",
       "<table border=\"1\" class=\"dataframe\">\n",
       "  <thead>\n",
       "    <tr style=\"text-align: right;\">\n",
       "      <th></th>\n",
       "      <th>time_start</th>\n",
       "      <th>bin_size</th>\n",
       "      <th>time_end</th>\n",
       "      <th>A</th>\n",
       "      <th>B</th>\n",
       "      <th>C</th>\n",
       "      <th>D</th>\n",
       "      <th>E</th>\n",
       "      <th>F</th>\n",
       "    </tr>\n",
       "  </thead>\n",
       "  <tbody>\n",
       "    <tr>\n",
       "      <th>0</th>\n",
       "      <td>2016-03-22T12:30:31.000</td>\n",
       "      <td>3</td>\n",
       "      <td>2016-03-22T12:30:34.000</td>\n",
       "      <td>164.93</td>\n",
       "      <td>114.73</td>\n",
       "      <td>26.27</td>\n",
       "      <td>19.21</td>\n",
       "      <td>28.87</td>\n",
       "      <td>63.44</td>\n",
       "    </tr>\n",
       "    <tr>\n",
       "      <th>1</th>\n",
       "      <td>2016-03-22T12:30:34.000</td>\n",
       "      <td>3</td>\n",
       "      <td>2016-03-22T12:30:37.000</td>\n",
       "      <td>164.89</td>\n",
       "      <td>114.75</td>\n",
       "      <td>26.22</td>\n",
       "      <td>19.07</td>\n",
       "      <td>27.76</td>\n",
       "      <td>59.98</td>\n",
       "    </tr>\n",
       "    <tr>\n",
       "      <th>2</th>\n",
       "      <td>2016-03-22T12:30:37.000</td>\n",
       "      <td>3</td>\n",
       "      <td>2016-03-22T12:30:40.000</td>\n",
       "      <td>164.63</td>\n",
       "      <td>115.04</td>\n",
       "      <td>25.78</td>\n",
       "      <td>19.01</td>\n",
       "      <td>27.04</td>\n",
       "      <td>59.61</td>\n",
       "    </tr>\n",
       "    <tr>\n",
       "      <th>3</th>\n",
       "      <td>2016-03-22T12:30:40.000</td>\n",
       "      <td>3</td>\n",
       "      <td>2016-03-22T12:30:43.000</td>\n",
       "      <td>163.92</td>\n",
       "      <td>114.85</td>\n",
       "      <td>27.41</td>\n",
       "      <td>19.61</td>\n",
       "      <td>27.84</td>\n",
       "      <td>59.41</td>\n",
       "    </tr>\n",
       "    <tr>\n",
       "      <th>4</th>\n",
       "      <td>2016-03-22T12:30:43.000</td>\n",
       "      <td>3</td>\n",
       "      <td>2016-03-22T12:30:46.000</td>\n",
       "      <td>163.45</td>\n",
       "      <td>114.84</td>\n",
       "      <td>26.86</td>\n",
       "      <td>19.53</td>\n",
       "      <td>28.02</td>\n",
       "      <td>60.09</td>\n",
       "    </tr>\n",
       "    <tr>\n",
       "      <th>5</th>\n",
       "      <td>2016-03-22T12:30:46.000</td>\n",
       "      <td>3</td>\n",
       "      <td>2016-03-22T12:30:49.000</td>\n",
       "      <td>163.46</td>\n",
       "      <td>115.40</td>\n",
       "      <td>27.09</td>\n",
       "      <td>19.72</td>\n",
       "      <td>28.25</td>\n",
       "      <td>59.62</td>\n",
       "    </tr>\n",
       "    <tr>\n",
       "      <th>6</th>\n",
       "      <td>2016-03-22T12:30:49.000</td>\n",
       "      <td>3</td>\n",
       "      <td>2016-03-22T12:30:52.000</td>\n",
       "      <td>163.22</td>\n",
       "      <td>115.56</td>\n",
       "      <td>27.13</td>\n",
       "      <td>19.63</td>\n",
       "      <td>28.24</td>\n",
       "      <td>58.65</td>\n",
       "    </tr>\n",
       "    <tr>\n",
       "      <th>7</th>\n",
       "      <td>2016-03-22T12:30:52.000</td>\n",
       "      <td>3</td>\n",
       "      <td>2016-03-22T12:30:55.000</td>\n",
       "      <td>164.02</td>\n",
       "      <td>115.54</td>\n",
       "      <td>26.74</td>\n",
       "      <td>19.55</td>\n",
       "      <td>28.43</td>\n",
       "      <td>59.20</td>\n",
       "    </tr>\n",
       "    <tr>\n",
       "      <th>8</th>\n",
       "      <td>2016-03-22T12:30:55.000</td>\n",
       "      <td>3</td>\n",
       "      <td>2016-03-22T12:30:58.000</td>\n",
       "      <td>163.59</td>\n",
       "      <td>115.72</td>\n",
       "      <td>27.82</td>\n",
       "      <td>20.21</td>\n",
       "      <td>29.17</td>\n",
       "      <td>56.18</td>\n",
       "    </tr>\n",
       "    <tr>\n",
       "      <th>9</th>\n",
       "      <td>2016-03-22T12:30:58.000</td>\n",
       "      <td>3</td>\n",
       "      <td>2016-03-22T12:31:01.000</td>\n",
       "      <td>163.32</td>\n",
       "      <td>115.11</td>\n",
       "      <td>28.22</td>\n",
       "      <td>20.42</td>\n",
       "      <td>29.38</td>\n",
       "      <td>56.64</td>\n",
       "    </tr>\n",
       "  </tbody>\n",
       "</table>\n",
       "</div>"
      ],
      "text/plain": [
       "                time_start  bin_size                 time_end       A       B  \\\n",
       "0  2016-03-22T12:30:31.000         3  2016-03-22T12:30:34.000  164.93  114.73   \n",
       "1  2016-03-22T12:30:34.000         3  2016-03-22T12:30:37.000  164.89  114.75   \n",
       "2  2016-03-22T12:30:37.000         3  2016-03-22T12:30:40.000  164.63  115.04   \n",
       "3  2016-03-22T12:30:40.000         3  2016-03-22T12:30:43.000  163.92  114.85   \n",
       "4  2016-03-22T12:30:43.000         3  2016-03-22T12:30:46.000  163.45  114.84   \n",
       "5  2016-03-22T12:30:46.000         3  2016-03-22T12:30:49.000  163.46  115.40   \n",
       "6  2016-03-22T12:30:49.000         3  2016-03-22T12:30:52.000  163.22  115.56   \n",
       "7  2016-03-22T12:30:52.000         3  2016-03-22T12:30:55.000  164.02  115.54   \n",
       "8  2016-03-22T12:30:55.000         3  2016-03-22T12:30:58.000  163.59  115.72   \n",
       "9  2016-03-22T12:30:58.000         3  2016-03-22T12:31:01.000  163.32  115.11   \n",
       "\n",
       "       C      D      E      F  \n",
       "0  26.27  19.21  28.87  63.44  \n",
       "1  26.22  19.07  27.76  59.98  \n",
       "2  25.78  19.01  27.04  59.61  \n",
       "3  27.41  19.61  27.84  59.41  \n",
       "4  26.86  19.53  28.02  60.09  \n",
       "5  27.09  19.72  28.25  59.62  \n",
       "6  27.13  19.63  28.24  58.65  \n",
       "7  26.74  19.55  28.43  59.20  \n",
       "8  27.82  20.21  29.17  56.18  \n",
       "9  28.22  20.42  29.38  56.64  "
      ]
     },
     "execution_count": 29,
     "metadata": {},
     "output_type": "execute_result"
    }
   ],
   "source": [
    "p=pd.read_csv(\"C:/Users/admin/anaconda3/pkgs/astropy-5.0.4-py39h080aedc_0/Lib/site-packages/astropy/timeseries/tests/data/binned.csv\")\n",
    "k=pd.DataFrame(p)\n",
    "k"
   ]
  },
  {
   "cell_type": "code",
   "execution_count": 31,
   "id": "cd501142",
   "metadata": {},
   "outputs": [
    {
     "data": {
      "text/html": [
       "<div>\n",
       "<style scoped>\n",
       "    .dataframe tbody tr th:only-of-type {\n",
       "        vertical-align: middle;\n",
       "    }\n",
       "\n",
       "    .dataframe tbody tr th {\n",
       "        vertical-align: top;\n",
       "    }\n",
       "\n",
       "    .dataframe thead th {\n",
       "        text-align: right;\n",
       "    }\n",
       "</style>\n",
       "<table border=\"1\" class=\"dataframe\">\n",
       "  <thead>\n",
       "    <tr style=\"text-align: right;\">\n",
       "      <th></th>\n",
       "      <th>time_start</th>\n",
       "      <th>bin_size</th>\n",
       "      <th>time_end</th>\n",
       "      <th>A</th>\n",
       "      <th>B</th>\n",
       "      <th>C</th>\n",
       "      <th>D</th>\n",
       "      <th>E</th>\n",
       "      <th>F</th>\n",
       "    </tr>\n",
       "  </thead>\n",
       "  <tbody>\n",
       "    <tr>\n",
       "      <th>0</th>\n",
       "      <td>2016-03-22T12:30:31.000</td>\n",
       "      <td>3</td>\n",
       "      <td>2016-03-22T12:30:34.000</td>\n",
       "      <td>164.93</td>\n",
       "      <td>114.73</td>\n",
       "      <td>26.27</td>\n",
       "      <td>19.21</td>\n",
       "      <td>28.87</td>\n",
       "      <td>63.44</td>\n",
       "    </tr>\n",
       "    <tr>\n",
       "      <th>1</th>\n",
       "      <td>2016-03-22T12:30:34.000</td>\n",
       "      <td>3</td>\n",
       "      <td>2016-03-22T12:30:37.000</td>\n",
       "      <td>164.89</td>\n",
       "      <td>114.75</td>\n",
       "      <td>26.22</td>\n",
       "      <td>19.07</td>\n",
       "      <td>27.76</td>\n",
       "      <td>59.98</td>\n",
       "    </tr>\n",
       "    <tr>\n",
       "      <th>2</th>\n",
       "      <td>2016-03-22T12:30:37.000</td>\n",
       "      <td>3</td>\n",
       "      <td>2016-03-22T12:30:40.000</td>\n",
       "      <td>164.63</td>\n",
       "      <td>115.04</td>\n",
       "      <td>25.78</td>\n",
       "      <td>19.01</td>\n",
       "      <td>27.04</td>\n",
       "      <td>59.61</td>\n",
       "    </tr>\n",
       "    <tr>\n",
       "      <th>3</th>\n",
       "      <td>2016-03-22T12:30:40.000</td>\n",
       "      <td>3</td>\n",
       "      <td>2016-03-22T12:30:43.000</td>\n",
       "      <td>163.92</td>\n",
       "      <td>114.85</td>\n",
       "      <td>27.41</td>\n",
       "      <td>19.61</td>\n",
       "      <td>27.84</td>\n",
       "      <td>59.41</td>\n",
       "    </tr>\n",
       "    <tr>\n",
       "      <th>4</th>\n",
       "      <td>2016-03-22T12:30:43.000</td>\n",
       "      <td>3</td>\n",
       "      <td>2016-03-22T12:30:46.000</td>\n",
       "      <td>163.45</td>\n",
       "      <td>114.84</td>\n",
       "      <td>26.86</td>\n",
       "      <td>19.53</td>\n",
       "      <td>28.02</td>\n",
       "      <td>60.09</td>\n",
       "    </tr>\n",
       "  </tbody>\n",
       "</table>\n",
       "</div>"
      ],
      "text/plain": [
       "                time_start  bin_size                 time_end       A       B  \\\n",
       "0  2016-03-22T12:30:31.000         3  2016-03-22T12:30:34.000  164.93  114.73   \n",
       "1  2016-03-22T12:30:34.000         3  2016-03-22T12:30:37.000  164.89  114.75   \n",
       "2  2016-03-22T12:30:37.000         3  2016-03-22T12:30:40.000  164.63  115.04   \n",
       "3  2016-03-22T12:30:40.000         3  2016-03-22T12:30:43.000  163.92  114.85   \n",
       "4  2016-03-22T12:30:43.000         3  2016-03-22T12:30:46.000  163.45  114.84   \n",
       "\n",
       "       C      D      E      F  \n",
       "0  26.27  19.21  28.87  63.44  \n",
       "1  26.22  19.07  27.76  59.98  \n",
       "2  25.78  19.01  27.04  59.61  \n",
       "3  27.41  19.61  27.84  59.41  \n",
       "4  26.86  19.53  28.02  60.09  "
      ]
     },
     "execution_count": 31,
     "metadata": {},
     "output_type": "execute_result"
    }
   ],
   "source": [
    "p.head(5)"
   ]
  },
  {
   "cell_type": "code",
   "execution_count": 32,
   "id": "b288ec1f",
   "metadata": {},
   "outputs": [
    {
     "data": {
      "text/html": [
       "<div>\n",
       "<style scoped>\n",
       "    .dataframe tbody tr th:only-of-type {\n",
       "        vertical-align: middle;\n",
       "    }\n",
       "\n",
       "    .dataframe tbody tr th {\n",
       "        vertical-align: top;\n",
       "    }\n",
       "\n",
       "    .dataframe thead th {\n",
       "        text-align: right;\n",
       "    }\n",
       "</style>\n",
       "<table border=\"1\" class=\"dataframe\">\n",
       "  <thead>\n",
       "    <tr style=\"text-align: right;\">\n",
       "      <th></th>\n",
       "      <th>time_start</th>\n",
       "      <th>bin_size</th>\n",
       "      <th>time_end</th>\n",
       "      <th>A</th>\n",
       "      <th>B</th>\n",
       "      <th>C</th>\n",
       "      <th>D</th>\n",
       "      <th>E</th>\n",
       "      <th>F</th>\n",
       "    </tr>\n",
       "  </thead>\n",
       "  <tbody>\n",
       "    <tr>\n",
       "      <th>7</th>\n",
       "      <td>2016-03-22T12:30:52.000</td>\n",
       "      <td>3</td>\n",
       "      <td>2016-03-22T12:30:55.000</td>\n",
       "      <td>164.02</td>\n",
       "      <td>115.54</td>\n",
       "      <td>26.74</td>\n",
       "      <td>19.55</td>\n",
       "      <td>28.43</td>\n",
       "      <td>59.20</td>\n",
       "    </tr>\n",
       "    <tr>\n",
       "      <th>8</th>\n",
       "      <td>2016-03-22T12:30:55.000</td>\n",
       "      <td>3</td>\n",
       "      <td>2016-03-22T12:30:58.000</td>\n",
       "      <td>163.59</td>\n",
       "      <td>115.72</td>\n",
       "      <td>27.82</td>\n",
       "      <td>20.21</td>\n",
       "      <td>29.17</td>\n",
       "      <td>56.18</td>\n",
       "    </tr>\n",
       "    <tr>\n",
       "      <th>9</th>\n",
       "      <td>2016-03-22T12:30:58.000</td>\n",
       "      <td>3</td>\n",
       "      <td>2016-03-22T12:31:01.000</td>\n",
       "      <td>163.32</td>\n",
       "      <td>115.11</td>\n",
       "      <td>28.22</td>\n",
       "      <td>20.42</td>\n",
       "      <td>29.38</td>\n",
       "      <td>56.64</td>\n",
       "    </tr>\n",
       "  </tbody>\n",
       "</table>\n",
       "</div>"
      ],
      "text/plain": [
       "                time_start  bin_size                 time_end       A       B  \\\n",
       "7  2016-03-22T12:30:52.000         3  2016-03-22T12:30:55.000  164.02  115.54   \n",
       "8  2016-03-22T12:30:55.000         3  2016-03-22T12:30:58.000  163.59  115.72   \n",
       "9  2016-03-22T12:30:58.000         3  2016-03-22T12:31:01.000  163.32  115.11   \n",
       "\n",
       "       C      D      E      F  \n",
       "7  26.74  19.55  28.43  59.20  \n",
       "8  27.82  20.21  29.17  56.18  \n",
       "9  28.22  20.42  29.38  56.64  "
      ]
     },
     "execution_count": 32,
     "metadata": {},
     "output_type": "execute_result"
    }
   ],
   "source": [
    "p.tail(3)"
   ]
  },
  {
   "cell_type": "code",
   "execution_count": 33,
   "id": "c98b6d1e",
   "metadata": {},
   "outputs": [
    {
     "name": "stdout",
     "output_type": "stream",
     "text": [
      "<class 'pandas.core.frame.DataFrame'>\n",
      "RangeIndex: 10 entries, 0 to 9\n",
      "Data columns (total 9 columns):\n",
      " #   Column      Non-Null Count  Dtype  \n",
      "---  ------      --------------  -----  \n",
      " 0   time_start  10 non-null     object \n",
      " 1   bin_size    10 non-null     int64  \n",
      " 2   time_end    10 non-null     object \n",
      " 3   A           10 non-null     float64\n",
      " 4   B           10 non-null     float64\n",
      " 5   C           10 non-null     float64\n",
      " 6   D           10 non-null     float64\n",
      " 7   E           10 non-null     float64\n",
      " 8   F           10 non-null     float64\n",
      "dtypes: float64(6), int64(1), object(2)\n",
      "memory usage: 848.0+ bytes\n"
     ]
    }
   ],
   "source": [
    "p.info()"
   ]
  },
  {
   "cell_type": "code",
   "execution_count": 34,
   "id": "c69e68ba",
   "metadata": {},
   "outputs": [
    {
     "data": {
      "text/html": [
       "<div>\n",
       "<style scoped>\n",
       "    .dataframe tbody tr th:only-of-type {\n",
       "        vertical-align: middle;\n",
       "    }\n",
       "\n",
       "    .dataframe tbody tr th {\n",
       "        vertical-align: top;\n",
       "    }\n",
       "\n",
       "    .dataframe thead th {\n",
       "        text-align: right;\n",
       "    }\n",
       "</style>\n",
       "<table border=\"1\" class=\"dataframe\">\n",
       "  <thead>\n",
       "    <tr style=\"text-align: right;\">\n",
       "      <th></th>\n",
       "      <th>bin_size</th>\n",
       "      <th>A</th>\n",
       "      <th>B</th>\n",
       "      <th>C</th>\n",
       "      <th>D</th>\n",
       "      <th>E</th>\n",
       "      <th>F</th>\n",
       "    </tr>\n",
       "  </thead>\n",
       "  <tbody>\n",
       "    <tr>\n",
       "      <th>count</th>\n",
       "      <td>10.0</td>\n",
       "      <td>10.000000</td>\n",
       "      <td>10.000000</td>\n",
       "      <td>10.000000</td>\n",
       "      <td>10.000000</td>\n",
       "      <td>10.000000</td>\n",
       "      <td>10.000000</td>\n",
       "    </tr>\n",
       "    <tr>\n",
       "      <th>mean</th>\n",
       "      <td>3.0</td>\n",
       "      <td>163.943000</td>\n",
       "      <td>115.154000</td>\n",
       "      <td>26.954000</td>\n",
       "      <td>19.596000</td>\n",
       "      <td>28.300000</td>\n",
       "      <td>59.282000</td>\n",
       "    </tr>\n",
       "    <tr>\n",
       "      <th>std</th>\n",
       "      <td>0.0</td>\n",
       "      <td>0.654999</td>\n",
       "      <td>0.371729</td>\n",
       "      <td>0.749047</td>\n",
       "      <td>0.453167</td>\n",
       "      <td>0.702409</td>\n",
       "      <td>1.990979</td>\n",
       "    </tr>\n",
       "    <tr>\n",
       "      <th>min</th>\n",
       "      <td>3.0</td>\n",
       "      <td>163.220000</td>\n",
       "      <td>114.730000</td>\n",
       "      <td>25.780000</td>\n",
       "      <td>19.010000</td>\n",
       "      <td>27.040000</td>\n",
       "      <td>56.180000</td>\n",
       "    </tr>\n",
       "    <tr>\n",
       "      <th>25%</th>\n",
       "      <td>3.0</td>\n",
       "      <td>163.452500</td>\n",
       "      <td>114.842500</td>\n",
       "      <td>26.387500</td>\n",
       "      <td>19.290000</td>\n",
       "      <td>27.885000</td>\n",
       "      <td>58.787500</td>\n",
       "    </tr>\n",
       "    <tr>\n",
       "      <th>50%</th>\n",
       "      <td>3.0</td>\n",
       "      <td>163.755000</td>\n",
       "      <td>115.075000</td>\n",
       "      <td>26.975000</td>\n",
       "      <td>19.580000</td>\n",
       "      <td>28.245000</td>\n",
       "      <td>59.510000</td>\n",
       "    </tr>\n",
       "    <tr>\n",
       "      <th>75%</th>\n",
       "      <td>3.0</td>\n",
       "      <td>164.477500</td>\n",
       "      <td>115.505000</td>\n",
       "      <td>27.340000</td>\n",
       "      <td>19.697500</td>\n",
       "      <td>28.760000</td>\n",
       "      <td>59.890000</td>\n",
       "    </tr>\n",
       "    <tr>\n",
       "      <th>max</th>\n",
       "      <td>3.0</td>\n",
       "      <td>164.930000</td>\n",
       "      <td>115.720000</td>\n",
       "      <td>28.220000</td>\n",
       "      <td>20.420000</td>\n",
       "      <td>29.380000</td>\n",
       "      <td>63.440000</td>\n",
       "    </tr>\n",
       "  </tbody>\n",
       "</table>\n",
       "</div>"
      ],
      "text/plain": [
       "       bin_size           A           B          C          D          E  \\\n",
       "count      10.0   10.000000   10.000000  10.000000  10.000000  10.000000   \n",
       "mean        3.0  163.943000  115.154000  26.954000  19.596000  28.300000   \n",
       "std         0.0    0.654999    0.371729   0.749047   0.453167   0.702409   \n",
       "min         3.0  163.220000  114.730000  25.780000  19.010000  27.040000   \n",
       "25%         3.0  163.452500  114.842500  26.387500  19.290000  27.885000   \n",
       "50%         3.0  163.755000  115.075000  26.975000  19.580000  28.245000   \n",
       "75%         3.0  164.477500  115.505000  27.340000  19.697500  28.760000   \n",
       "max         3.0  164.930000  115.720000  28.220000  20.420000  29.380000   \n",
       "\n",
       "               F  \n",
       "count  10.000000  \n",
       "mean   59.282000  \n",
       "std     1.990979  \n",
       "min    56.180000  \n",
       "25%    58.787500  \n",
       "50%    59.510000  \n",
       "75%    59.890000  \n",
       "max    63.440000  "
      ]
     },
     "execution_count": 34,
     "metadata": {},
     "output_type": "execute_result"
    }
   ],
   "source": [
    "p.describe()\n",
    "\n"
   ]
  },
  {
   "cell_type": "code",
   "execution_count": 35,
   "id": "35dbdcb5",
   "metadata": {},
   "outputs": [
    {
     "data": {
      "text/plain": [
       "time_start    0\n",
       "bin_size      0\n",
       "time_end      0\n",
       "A             0\n",
       "B             0\n",
       "C             0\n",
       "D             0\n",
       "E             0\n",
       "F             0\n",
       "dtype: int64"
      ]
     },
     "execution_count": 35,
     "metadata": {},
     "output_type": "execute_result"
    }
   ],
   "source": [
    "p.isnull().sum()"
   ]
  },
  {
   "cell_type": "code",
   "execution_count": 39,
   "id": "b2960a39",
   "metadata": {},
   "outputs": [
    {
     "data": {
      "text/html": [
       "<div>\n",
       "<style scoped>\n",
       "    .dataframe tbody tr th:only-of-type {\n",
       "        vertical-align: middle;\n",
       "    }\n",
       "\n",
       "    .dataframe tbody tr th {\n",
       "        vertical-align: top;\n",
       "    }\n",
       "\n",
       "    .dataframe thead th {\n",
       "        text-align: right;\n",
       "    }\n",
       "</style>\n",
       "<table border=\"1\" class=\"dataframe\">\n",
       "  <thead>\n",
       "    <tr style=\"text-align: right;\">\n",
       "      <th></th>\n",
       "      <th>time_start</th>\n",
       "      <th>bin_size</th>\n",
       "      <th>time_end</th>\n",
       "      <th>A</th>\n",
       "      <th>B</th>\n",
       "      <th>C</th>\n",
       "      <th>D</th>\n",
       "      <th>E</th>\n",
       "      <th>F</th>\n",
       "    </tr>\n",
       "  </thead>\n",
       "  <tbody>\n",
       "    <tr>\n",
       "      <th>0</th>\n",
       "      <td>False</td>\n",
       "      <td>False</td>\n",
       "      <td>False</td>\n",
       "      <td>False</td>\n",
       "      <td>False</td>\n",
       "      <td>False</td>\n",
       "      <td>False</td>\n",
       "      <td>False</td>\n",
       "      <td>False</td>\n",
       "    </tr>\n",
       "    <tr>\n",
       "      <th>1</th>\n",
       "      <td>False</td>\n",
       "      <td>False</td>\n",
       "      <td>False</td>\n",
       "      <td>False</td>\n",
       "      <td>False</td>\n",
       "      <td>False</td>\n",
       "      <td>False</td>\n",
       "      <td>False</td>\n",
       "      <td>False</td>\n",
       "    </tr>\n",
       "    <tr>\n",
       "      <th>2</th>\n",
       "      <td>False</td>\n",
       "      <td>False</td>\n",
       "      <td>False</td>\n",
       "      <td>False</td>\n",
       "      <td>False</td>\n",
       "      <td>False</td>\n",
       "      <td>False</td>\n",
       "      <td>False</td>\n",
       "      <td>False</td>\n",
       "    </tr>\n",
       "    <tr>\n",
       "      <th>3</th>\n",
       "      <td>False</td>\n",
       "      <td>False</td>\n",
       "      <td>False</td>\n",
       "      <td>False</td>\n",
       "      <td>False</td>\n",
       "      <td>False</td>\n",
       "      <td>False</td>\n",
       "      <td>False</td>\n",
       "      <td>False</td>\n",
       "    </tr>\n",
       "    <tr>\n",
       "      <th>4</th>\n",
       "      <td>False</td>\n",
       "      <td>False</td>\n",
       "      <td>False</td>\n",
       "      <td>False</td>\n",
       "      <td>False</td>\n",
       "      <td>False</td>\n",
       "      <td>False</td>\n",
       "      <td>False</td>\n",
       "      <td>False</td>\n",
       "    </tr>\n",
       "    <tr>\n",
       "      <th>5</th>\n",
       "      <td>False</td>\n",
       "      <td>False</td>\n",
       "      <td>False</td>\n",
       "      <td>False</td>\n",
       "      <td>False</td>\n",
       "      <td>False</td>\n",
       "      <td>False</td>\n",
       "      <td>False</td>\n",
       "      <td>False</td>\n",
       "    </tr>\n",
       "    <tr>\n",
       "      <th>6</th>\n",
       "      <td>False</td>\n",
       "      <td>False</td>\n",
       "      <td>False</td>\n",
       "      <td>False</td>\n",
       "      <td>False</td>\n",
       "      <td>False</td>\n",
       "      <td>False</td>\n",
       "      <td>False</td>\n",
       "      <td>False</td>\n",
       "    </tr>\n",
       "    <tr>\n",
       "      <th>7</th>\n",
       "      <td>False</td>\n",
       "      <td>False</td>\n",
       "      <td>False</td>\n",
       "      <td>False</td>\n",
       "      <td>False</td>\n",
       "      <td>False</td>\n",
       "      <td>False</td>\n",
       "      <td>False</td>\n",
       "      <td>False</td>\n",
       "    </tr>\n",
       "    <tr>\n",
       "      <th>8</th>\n",
       "      <td>False</td>\n",
       "      <td>False</td>\n",
       "      <td>False</td>\n",
       "      <td>False</td>\n",
       "      <td>False</td>\n",
       "      <td>False</td>\n",
       "      <td>False</td>\n",
       "      <td>False</td>\n",
       "      <td>False</td>\n",
       "    </tr>\n",
       "    <tr>\n",
       "      <th>9</th>\n",
       "      <td>False</td>\n",
       "      <td>False</td>\n",
       "      <td>False</td>\n",
       "      <td>False</td>\n",
       "      <td>False</td>\n",
       "      <td>False</td>\n",
       "      <td>False</td>\n",
       "      <td>False</td>\n",
       "      <td>False</td>\n",
       "    </tr>\n",
       "  </tbody>\n",
       "</table>\n",
       "</div>"
      ],
      "text/plain": [
       "   time_start  bin_size  time_end      A      B      C      D      E      F\n",
       "0       False     False     False  False  False  False  False  False  False\n",
       "1       False     False     False  False  False  False  False  False  False\n",
       "2       False     False     False  False  False  False  False  False  False\n",
       "3       False     False     False  False  False  False  False  False  False\n",
       "4       False     False     False  False  False  False  False  False  False\n",
       "5       False     False     False  False  False  False  False  False  False\n",
       "6       False     False     False  False  False  False  False  False  False\n",
       "7       False     False     False  False  False  False  False  False  False\n",
       "8       False     False     False  False  False  False  False  False  False\n",
       "9       False     False     False  False  False  False  False  False  False"
      ]
     },
     "execution_count": 39,
     "metadata": {},
     "output_type": "execute_result"
    }
   ],
   "source": [
    "p.isnull()"
   ]
  },
  {
   "cell_type": "code",
   "execution_count": 40,
   "id": "60dda6aa",
   "metadata": {},
   "outputs": [
    {
     "data": {
      "text/plain": [
       "array([164.93, 164.89, 164.63, 163.92, 163.45, 163.46, 163.22, 164.02,\n",
       "       163.59, 163.32])"
      ]
     },
     "execution_count": 40,
     "metadata": {},
     "output_type": "execute_result"
    }
   ],
   "source": [
    "p[\"A\"].unique()\n"
   ]
  },
  {
   "cell_type": "code",
   "execution_count": 41,
   "id": "3a28a5e4",
   "metadata": {},
   "outputs": [
    {
     "data": {
      "text/plain": [
       "115.154"
      ]
     },
     "execution_count": 41,
     "metadata": {},
     "output_type": "execute_result"
    }
   ],
   "source": [
    "p[\"B\"].mean()\n",
    "\n"
   ]
  },
  {
   "cell_type": "code",
   "execution_count": 42,
   "id": "db74866a",
   "metadata": {},
   "outputs": [
    {
     "data": {
      "text/plain": [
       "269.53999999999996"
      ]
     },
     "execution_count": 42,
     "metadata": {},
     "output_type": "execute_result"
    }
   ],
   "source": [
    "p[\"C\"].sum()"
   ]
  },
  {
   "cell_type": "code",
   "execution_count": null,
   "id": "48325c45",
   "metadata": {},
   "outputs": [],
   "source": [
    " "
   ]
  }
 ],
 "metadata": {
  "kernelspec": {
   "display_name": "Python 3 (ipykernel)",
   "language": "python",
   "name": "python3"
  },
  "language_info": {
   "codemirror_mode": {
    "name": "ipython",
    "version": 3
   },
   "file_extension": ".py",
   "mimetype": "text/x-python",
   "name": "python",
   "nbconvert_exporter": "python",
   "pygments_lexer": "ipython3",
   "version": "3.9.12"
  }
 },
 "nbformat": 4,
 "nbformat_minor": 5
}
