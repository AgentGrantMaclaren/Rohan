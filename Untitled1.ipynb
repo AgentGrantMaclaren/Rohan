{
 "cells": [
  {
   "cell_type": "code",
   "execution_count": 2,
   "id": "6bc6264e",
   "metadata": {},
   "outputs": [
    {
     "name": "stdout",
     "output_type": "stream",
     "text": [
      "employee number 150\n",
      "employee name rohit\n",
      "employee salary 50000\n",
      "employee address chembur\n",
      "are you married no\n",
      "150 rohit 50000 chembur no\n"
     ]
    }
   ],
   "source": [
    "eno=int(input(\"employee number \"))\n",
    "ename=input(\"employee name \")\n",
    "esal=int(input(\"employee salary \"))\n",
    "eaddr=input(\"employee address \")\n",
    "married=input(\"are you married \")\n",
    "print(eno,ename,esal,eaddr,married)\n"
   ]
  },
  {
   "cell_type": "code",
   "execution_count": 3,
   "id": "98e9ffae",
   "metadata": {},
   "outputs": [
    {
     "name": "stdout",
     "output_type": "stream",
     "text": [
      "employee number 150\n",
      "employee name rohit\n",
      "employee salary 50000\n",
      "employee address chembur\n",
      "are you married no\n",
      "150 rohit 50000 chembur no\n"
     ]
    }
   ],
   "source": [
    "eno=int(input(\"employee number \"))\n",
    "ename=input(\"employee name \")\n",
    "esal=int(input(\"employee salary \"))\n",
    "eaddr=input(\"employee address \")\n",
    "married=input(\"are you married \")\n",
    "print(eno,ename,esal,eaddr,married)\n"
   ]
  },
  {
   "cell_type": "code",
   "execution_count": null,
   "id": "f397c63d",
   "metadata": {},
   "outputs": [],
   "source": []
  }
 ],
 "metadata": {
  "kernelspec": {
   "display_name": "Python 3 (ipykernel)",
   "language": "python",
   "name": "python3"
  },
  "language_info": {
   "codemirror_mode": {
    "name": "ipython",
    "version": 3
   },
   "file_extension": ".py",
   "mimetype": "text/x-python",
   "name": "python",
   "nbconvert_exporter": "python",
   "pygments_lexer": "ipython3",
   "version": "3.9.12"
  }
 },
 "nbformat": 4,
 "nbformat_minor": 5
}
